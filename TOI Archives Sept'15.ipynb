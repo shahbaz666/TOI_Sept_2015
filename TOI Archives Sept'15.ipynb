{
 "cells": [
  {
   "cell_type": "code",
   "execution_count": 1,
   "metadata": {},
   "outputs": [],
   "source": [
    "import selenium\n",
    "from selenium import webdriver as wb\n",
    "import pandas as pd\n",
    "import time"
   ]
  },
  {
   "cell_type": "code",
   "execution_count": 2,
   "metadata": {},
   "outputs": [],
   "source": [
    "webD = wb.Chrome('chromedriver.exe')\n",
    "webD.get('https://timesofindia.indiatimes.com/archive/year-2015,month-9.cms')"
   ]
  },
  {
   "cell_type": "code",
   "execution_count": 3,
   "metadata": {},
   "outputs": [],
   "source": [
    "date_urls = [] #list for storing all date urls\n",
    "#Let us extract all the urls from all the rows in the webpage calender\n",
    "rows = webD.find_element_by_id('calender').find_elements_by_tag_name('td')\n",
    "for row in rows:\n",
    "    #Not all calender row elements contain date or url so we will extract only the url of 30 days\n",
    "    if len(row.find_elements_by_tag_name('a'))==0:\n",
    "        continue\n",
    "    elif row.find_element_by_tag_name('a').text=='':\n",
    "        continue\n",
    "    else:\n",
    "        date_url = row.find_element_by_tag_name('a').get_property('href')\n",
    "    date_urls.append(date_url)"
   ]
  },
  {
   "cell_type": "code",
   "execution_count": null,
   "metadata": {},
   "outputs": [],
   "source": [
    "len(date_urls)"
   ]
  },
  {
   "cell_type": "code",
   "execution_count": 5,
   "metadata": {},
   "outputs": [],
   "source": [
    "urls = [] #list for storing all article urls\n",
    "#Let's iterate through all the date url and extract all article url from all 30 calender days\n",
    "for date_url in date_urls:\n",
    "    webD.get(date_url)\n",
    "    #All articls in the webpage are contained in different panels, some panels don't have any articles\n",
    "    panel = webD.find_elements_by_tag_name('table')[2].find_elements_by_tag_name('td')\n",
    "    for pane in panel:\n",
    "        if len(pane.find_elements_by_tag_name('a'))==0:\n",
    "            continue\n",
    "        else:\n",
    "            art_elements = pane.find_elements_by_tag_name('a')\n",
    "            for art_element in art_elements:\n",
    "                url = art_element.get_property('href')\n",
    "                urls.append(url)"
   ]
  },
  {
   "cell_type": "code",
   "execution_count": 6,
   "metadata": {},
   "outputs": [
    {
     "data": {
      "text/plain": [
       "15000"
      ]
     },
     "execution_count": 6,
     "metadata": {},
     "output_type": "execute_result"
    }
   ],
   "source": [
    "len(urls)"
   ]
  },
  {
   "cell_type": "code",
   "execution_count": 61,
   "metadata": {},
   "outputs": [],
   "source": [
    "authors = []\n",
    "dates = []\n",
    "verticals = []\n",
    "headings = []\n",
    "descs = []\n",
    "for url in urls[:25]:\n",
    "    webD.get(url)\n",
    "    time.sleep(2)\n",
    "    #Code to tackle error 404 in page\n",
    "    if len(webD.find_elements_by_class_name('error'))>0:\n",
    "        if webD.find_element_by_class_name('error').text=='404\\nPAGE NOT FOUND':\n",
    "            continue\n",
    "    #Code to tackle photo stories which are not in news format\n",
    "    elif len(webD.find_elements_by_class_name('photostory_heading'))>0:\n",
    "        continue\n",
    "    elif len(webD.find_elements_by_class_name('slide-info'))>0:\n",
    "        continue\n",
    "    #Code if the article is in news format\n",
    "    if len(webD.find_elements_by_class_name('_3R_Dd'))>0:\n",
    "        if len(webD.find_element_by_class_name('_3R_Dd').find_elements_by_tag_name('a'))>0:\n",
    "            author = webD.find_element_by_class_name('_3R_Dd').find_element_by_tag_name('a').text\n",
    "        else:\n",
    "            author = ''\n",
    "        date = webD.find_element_by_class_name('_3R_Dd').find_element_by_tag_name('div').text.split('|')[-1].strip().replace('Updated: ','').replace('Created: ','')\n",
    "        \n",
    "        if len(webD.find_element_by_xpath('//div[@class=\"_2tDZb contentwrapper \"]').find_elements_by_tag_name('a'))>1:\n",
    "            vertical = webD.find_element_by_xpath('//div[@class=\"_2tDZb contentwrapper \"]').find_elements_by_tag_name('a')[1].text\n",
    "        else:\n",
    "            vertical = ''\n",
    "        \n",
    "        heading = webD.find_element_by_class_name('_2NFXP ').find_element_by_tag_name('h1').text\n",
    "        desc = webD.find_element_by_class_name('ga-headlines').text\n",
    "        \n",
    "    #Code if the article is in other format\n",
    "    if len(webD.find_elements_by_class_name('as_byline'))>0:\n",
    "        #Incase author name is not mentioned\n",
    "        if len(webD.find_element_by_class_name('as_byline').find_elements_by_tag_name('a'))>0:\n",
    "            author = webD.find_element_by_class_name('as_byline').find_element_by_tag_name('a').text\n",
    "        else:\n",
    "            author = ''\n",
    "        date = webD.find_element_by_class_name('as_byline').find_elements_by_tag_name('div')[-1].text.replace('Updated: ','').replace('Created: ','')\n",
    "        vertical = webD.find_element_by_class_name('navbdcrumb').find_elements_by_tag_name('li')[1].text\n",
    "        heading = webD.find_element_by_class_name('heading1').text\n",
    "        desc = webD.find_element_by_tag_name('arttextxml').text\n",
    "    authors.append(author)\n",
    "    dates.append(date)\n",
    "    verticals.append(vertical)\n",
    "    headings.append(heading)\n",
    "    descs.append(desc)\n",
    "webD.quit()"
   ]
  },
  {
   "cell_type": "code",
   "execution_count": 14,
   "metadata": {},
   "outputs": [],
   "source": [
    "news = pd.DataFrame({'Date':dates,'Author':authors,'Vertical':verticals,'Heading':headings,'Description':descs})"
   ]
  },
  {
   "cell_type": "code",
   "execution_count": null,
   "metadata": {},
   "outputs": [],
   "source": [
    "news.info()"
   ]
  },
  {
   "cell_type": "code",
   "execution_count": 15,
   "metadata": {},
   "outputs": [
    {
     "data": {
      "text/html": [
       "<div>\n",
       "<style scoped>\n",
       "    .dataframe tbody tr th:only-of-type {\n",
       "        vertical-align: middle;\n",
       "    }\n",
       "\n",
       "    .dataframe tbody tr th {\n",
       "        vertical-align: top;\n",
       "    }\n",
       "\n",
       "    .dataframe thead th {\n",
       "        text-align: right;\n",
       "    }\n",
       "</style>\n",
       "<table border=\"1\" class=\"dataframe\">\n",
       "  <thead>\n",
       "    <tr style=\"text-align: right;\">\n",
       "      <th></th>\n",
       "      <th>Date</th>\n",
       "      <th>Author</th>\n",
       "      <th>Vertical</th>\n",
       "      <th>Heading</th>\n",
       "      <th>Description</th>\n",
       "    </tr>\n",
       "  </thead>\n",
       "  <tbody>\n",
       "  </tbody>\n",
       "</table>\n",
       "</div>"
      ],
      "text/plain": [
       "Empty DataFrame\n",
       "Columns: [Date, Author, Vertical, Heading, Description]\n",
       "Index: []"
      ]
     },
     "execution_count": 15,
     "metadata": {},
     "output_type": "execute_result"
    }
   ],
   "source": [
    "news"
   ]
  },
  {
   "cell_type": "code",
   "execution_count": 38,
   "metadata": {},
   "outputs": [],
   "source": [
    "news.to_csv('TOI_sept_2015_news.csv')"
   ]
  },
  {
   "cell_type": "code",
   "execution_count": null,
   "metadata": {},
   "outputs": [],
   "source": []
  },
  {
   "cell_type": "code",
   "execution_count": null,
   "metadata": {},
   "outputs": [],
   "source": []
  },
  {
   "cell_type": "code",
   "execution_count": null,
   "metadata": {},
   "outputs": [],
   "source": []
  },
  {
   "cell_type": "code",
   "execution_count": null,
   "metadata": {},
   "outputs": [],
   "source": []
  },
  {
   "cell_type": "code",
   "execution_count": null,
   "metadata": {},
   "outputs": [],
   "source": []
  },
  {
   "cell_type": "code",
   "execution_count": null,
   "metadata": {},
   "outputs": [],
   "source": []
  },
  {
   "cell_type": "code",
   "execution_count": null,
   "metadata": {},
   "outputs": [],
   "source": []
  },
  {
   "cell_type": "code",
   "execution_count": null,
   "metadata": {},
   "outputs": [],
   "source": []
  },
  {
   "cell_type": "code",
   "execution_count": null,
   "metadata": {},
   "outputs": [],
   "source": []
  }
 ],
 "metadata": {
  "kernelspec": {
   "display_name": "Python 3",
   "language": "python",
   "name": "python3"
  },
  "language_info": {
   "codemirror_mode": {
    "name": "ipython",
    "version": 3
   },
   "file_extension": ".py",
   "mimetype": "text/x-python",
   "name": "python",
   "nbconvert_exporter": "python",
   "pygments_lexer": "ipython3",
   "version": "3.7.6"
  }
 },
 "nbformat": 4,
 "nbformat_minor": 4
}
